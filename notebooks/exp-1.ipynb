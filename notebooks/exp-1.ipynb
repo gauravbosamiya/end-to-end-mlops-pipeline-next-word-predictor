{
 "cells": [
  {
   "cell_type": "code",
   "execution_count": 2,
   "metadata": {
    "_cell_guid": "b1076dfc-b9ad-4769-8c92-a6c4dae69d19",
    "_uuid": "8f2839f25d086af736a60e9eeb907d3b93b6e0e5",
    "execution": {
     "iopub.execute_input": "2025-04-01T14:06:26.820511Z",
     "iopub.status.busy": "2025-04-01T14:06:26.820220Z",
     "iopub.status.idle": "2025-04-01T14:06:26.823933Z",
     "shell.execute_reply": "2025-04-01T14:06:26.823075Z",
     "shell.execute_reply.started": "2025-04-01T14:06:26.820488Z"
    },
    "trusted": true
   },
   "outputs": [],
   "source": [
    "# ! pip install mlflow\n",
    "# ! pip install dagshub"
   ]
  },
  {
   "cell_type": "code",
   "execution_count": 42,
   "metadata": {
    "execution": {
     "iopub.execute_input": "2025-04-01T14:13:49.845417Z",
     "iopub.status.busy": "2025-04-01T14:13:49.845125Z",
     "iopub.status.idle": "2025-04-01T14:13:50.235702Z",
     "shell.execute_reply": "2025-04-01T14:13:50.234802Z",
     "shell.execute_reply.started": "2025-04-01T14:13:49.845393Z"
    },
    "trusted": true
   },
   "outputs": [
    {
     "name": "stdout",
     "output_type": "stream",
     "text": [
      "Scraping complete.\n"
     ]
    }
   ],
   "source": [
    "import requests\n",
    "from bs4 import BeautifulSoup\n",
    "import re\n",
    "import warnings\n",
    "warnings.filterwarnings(\"ignore\")\n",
    "\n",
    "lst  = [\"https://en.wikipedia.org/wiki/Predictive_text\",\n",
    "        \"https://en.wikipedia.org/wiki/Natural_language_processing\"\n",
    "        # \"https://en.wikipedia.org/wiki/Mahatma_Gandhi\",\n",
    "        # \"https://en.wikipedia.org/wiki/Ratan_Tata\",\n",
    "        # \"https://en.wikipedia.org/wiki/P._V._Sindhu\",\n",
    "        # \"https://en.wikipedia.org/wiki/India\",\n",
    "        # \"https://en.wikipedia.org/wiki/Deep_learning\",\n",
    "        # \"https://en.wikipedia.org/wiki/Generative_artificial_intelligence\",\n",
    "        # \"https://en.wikipedia.org/wiki/Amazon_(company)\",\n",
    "        # \"https://en.wikipedia.org/wiki/Gmail\",\n",
    "        ]\n",
    "\n",
    "\n",
    "def remove_number(text):\n",
    "    return re.sub(r'\\[\\d+\\]', '', text)\n",
    "\n",
    "def scrap_text(lst, filename):\n",
    "    all_content = []\n",
    "    with open(filename, \"w\", encoding='utf-8') as f:\n",
    "        for url in lst:\n",
    "            res = requests.get(url)\n",
    "            if res.status_code==200:\n",
    "                soup = BeautifulSoup(res.text,'html.parser')\n",
    "            \n",
    "                for div in soup.find_all('div'):\n",
    "                    for p in div.find_all(\"p\"):\n",
    "                        content = p.get_text().strip()\n",
    "                        cleaned_content = remove_number(content)\n",
    "                        # print(cleaned_content)\n",
    "                        all_content.append(cleaned_content)\n",
    "                        f.write(cleaned_content+\"\\n\")\n",
    "            else:\n",
    "                print(\"Something wrong!!!\")\n",
    "    return all_content\n",
    "\n",
    "\n",
    "scraped_text = scrap_text(lst, \"text.txt\")\n",
    "print(\"Scraping complete.\")\n"
   ]
  },
  {
   "cell_type": "code",
   "execution_count": 43,
   "metadata": {
    "execution": {
     "iopub.execute_input": "2025-04-01T14:13:50.236951Z",
     "iopub.status.busy": "2025-04-01T14:13:50.236712Z",
     "iopub.status.idle": "2025-04-01T14:13:50.241175Z",
     "shell.execute_reply": "2025-04-01T14:13:50.240292Z",
     "shell.execute_reply.started": "2025-04-01T14:13:50.236930Z"
    },
    "trusted": true
   },
   "outputs": [],
   "source": [
    "import pandas as pd \n",
    "import numpy as np \n",
    "import tensorflow as tf \n",
    "from tensorflow.keras.preprocessing.text import Tokenizer\n",
    "from tensorflow.keras.preprocessing.sequence import pad_sequences\n",
    "from tensorflow.keras.utils import to_categorical\n",
    "from tensorflow.keras.models import Sequential\n",
    "from tensorflow.keras.layers import Embedding, LSTM, Dense"
   ]
  },
  {
   "cell_type": "code",
   "execution_count": null,
   "metadata": {
    "execution": {
     "iopub.execute_input": "2025-04-01T14:13:50.630793Z",
     "iopub.status.busy": "2025-04-01T14:13:50.630459Z",
     "iopub.status.idle": "2025-04-01T14:13:50.635023Z",
     "shell.execute_reply": "2025-04-01T14:13:50.634178Z",
     "shell.execute_reply.started": "2025-04-01T14:13:50.630762Z"
    },
    "trusted": true
   },
   "outputs": [],
   "source": [
    "with open(\"/kaggle/working/text.txt\",\"r\") as f:\n",
    "    text = f.read().strip()"
   ]
  },
  {
   "cell_type": "code",
   "execution_count": 45,
   "metadata": {
    "execution": {
     "iopub.execute_input": "2025-04-01T14:13:50.889033Z",
     "iopub.status.busy": "2025-04-01T14:13:50.888726Z",
     "iopub.status.idle": "2025-04-01T14:13:50.910620Z",
     "shell.execute_reply": "2025-04-01T14:13:50.909871Z",
     "shell.execute_reply.started": "2025-04-01T14:13:50.889006Z"
    },
    "trusted": true
   },
   "outputs": [
    {
     "data": {
      "text/plain": [
       "882"
      ]
     },
     "execution_count": 45,
     "metadata": {},
     "output_type": "execute_result"
    }
   ],
   "source": [
    "tokenizer = Tokenizer()\n",
    "tokenizer.fit_on_texts([text])\n",
    "len(tokenizer.word_index)"
   ]
  },
  {
   "cell_type": "code",
   "execution_count": 46,
   "metadata": {
    "execution": {
     "iopub.execute_input": "2025-04-01T14:13:51.089217Z",
     "iopub.status.busy": "2025-04-01T14:13:51.088860Z",
     "iopub.status.idle": "2025-04-01T14:13:51.118646Z",
     "shell.execute_reply": "2025-04-01T14:13:51.117894Z",
     "shell.execute_reply.started": "2025-04-01T14:13:51.089188Z"
    },
    "trusted": true
   },
   "outputs": [],
   "source": [
    "input_sequences = []\n",
    "\n",
    "for sentences in text.split(\"\\n\"):\n",
    "    tokenized_sent = tokenizer.texts_to_sequences([sentences])[0]\n",
    "    for i in range(1, len(tokenized_sent)):\n",
    "        input_sequences.append(tokenized_sent[:i+1])"
   ]
  },
  {
   "cell_type": "code",
   "execution_count": 47,
   "metadata": {
    "execution": {
     "iopub.execute_input": "2025-04-01T14:13:51.292984Z",
     "iopub.status.busy": "2025-04-01T14:13:51.292671Z",
     "iopub.status.idle": "2025-04-01T14:13:51.300158Z",
     "shell.execute_reply": "2025-04-01T14:13:51.299055Z",
     "shell.execute_reply.started": "2025-04-01T14:13:51.292940Z"
    },
    "trusted": true
   },
   "outputs": [
    {
     "data": {
      "text/plain": [
       "178"
      ]
     },
     "execution_count": 47,
     "metadata": {},
     "output_type": "execute_result"
    }
   ],
   "source": [
    "max_len = max([len(x) for x in input_sequences])\n",
    "max_len"
   ]
  },
  {
   "cell_type": "code",
   "execution_count": null,
   "metadata": {
    "execution": {
     "iopub.execute_input": "2025-04-01T14:13:52.877799Z",
     "iopub.status.busy": "2025-04-01T14:13:52.877498Z",
     "iopub.status.idle": "2025-04-01T14:13:52.945960Z",
     "shell.execute_reply": "2025-04-01T14:13:52.945309Z",
     "shell.execute_reply.started": "2025-04-01T14:13:52.877766Z"
    },
    "trusted": true
   },
   "outputs": [],
   "source": [
    "padded_input_sequences = pad_sequences(input_sequences, maxlen=max_len, padding=\"pre\")"
   ]
  },
  {
   "cell_type": "code",
   "execution_count": 49,
   "metadata": {
    "execution": {
     "iopub.execute_input": "2025-04-01T14:13:53.035695Z",
     "iopub.status.busy": "2025-04-01T14:13:53.035447Z",
     "iopub.status.idle": "2025-04-01T14:13:53.039206Z",
     "shell.execute_reply": "2025-04-01T14:13:53.038465Z",
     "shell.execute_reply.started": "2025-04-01T14:13:53.035673Z"
    },
    "trusted": true
   },
   "outputs": [],
   "source": [
    "X = padded_input_sequences[:,:-1]\n",
    "y = padded_input_sequences[:,-1]"
   ]
  },
  {
   "cell_type": "code",
   "execution_count": 50,
   "metadata": {
    "execution": {
     "iopub.execute_input": "2025-04-01T14:13:53.189608Z",
     "iopub.status.busy": "2025-04-01T14:13:53.189349Z",
     "iopub.status.idle": "2025-04-01T14:13:53.194068Z",
     "shell.execute_reply": "2025-04-01T14:13:53.193380Z",
     "shell.execute_reply.started": "2025-04-01T14:13:53.189585Z"
    },
    "trusted": true
   },
   "outputs": [
    {
     "data": {
      "text/plain": [
       "(15036, 177)"
      ]
     },
     "execution_count": 50,
     "metadata": {},
     "output_type": "execute_result"
    }
   ],
   "source": [
    "X.shape"
   ]
  },
  {
   "cell_type": "code",
   "execution_count": 51,
   "metadata": {
    "execution": {
     "iopub.execute_input": "2025-04-01T14:13:53.329783Z",
     "iopub.status.busy": "2025-04-01T14:13:53.329554Z",
     "iopub.status.idle": "2025-04-01T14:13:53.334312Z",
     "shell.execute_reply": "2025-04-01T14:13:53.333649Z",
     "shell.execute_reply.started": "2025-04-01T14:13:53.329764Z"
    },
    "trusted": true
   },
   "outputs": [
    {
     "data": {
      "text/plain": [
       "(15036,)"
      ]
     },
     "execution_count": 51,
     "metadata": {},
     "output_type": "execute_result"
    }
   ],
   "source": [
    "y.shape"
   ]
  },
  {
   "cell_type": "code",
   "execution_count": 52,
   "metadata": {
    "execution": {
     "iopub.execute_input": "2025-04-01T14:13:54.295767Z",
     "iopub.status.busy": "2025-04-01T14:13:54.295443Z",
     "iopub.status.idle": "2025-04-01T14:13:54.341452Z",
     "shell.execute_reply": "2025-04-01T14:13:54.340708Z",
     "shell.execute_reply.started": "2025-04-01T14:13:54.295737Z"
    },
    "trusted": true
   },
   "outputs": [
    {
     "data": {
      "text/plain": [
       "(15036, 883)"
      ]
     },
     "execution_count": 52,
     "metadata": {},
     "output_type": "execute_result"
    }
   ],
   "source": [
    "y = to_categorical(y, num_classes=883)\n",
    "y.shape"
   ]
  },
  {
   "cell_type": "code",
   "execution_count": 53,
   "metadata": {
    "execution": {
     "iopub.execute_input": "2025-04-01T14:13:54.428393Z",
     "iopub.status.busy": "2025-04-01T14:13:54.428163Z",
     "iopub.status.idle": "2025-04-01T14:13:54.595913Z",
     "shell.execute_reply": "2025-04-01T14:13:54.595264Z",
     "shell.execute_reply.started": "2025-04-01T14:13:54.428374Z"
    },
    "trusted": true
   },
   "outputs": [],
   "source": [
    "# Base model\n",
    "model = Sequential()\n",
    "\n",
    "model.add(Embedding(883, 100, input_length=178))\n",
    "model.add(LSTM(512, dropout=0.3))\n",
    "model.add(Dense(883, activation=\"softmax\"))\n",
    "\n",
    "model.build(input_shape=(None,178))"
   ]
  },
  {
   "cell_type": "code",
   "execution_count": 54,
   "metadata": {
    "execution": {
     "iopub.execute_input": "2025-04-01T14:13:55.203531Z",
     "iopub.status.busy": "2025-04-01T14:13:55.203243Z",
     "iopub.status.idle": "2025-04-01T14:13:55.211589Z",
     "shell.execute_reply": "2025-04-01T14:13:55.210835Z",
     "shell.execute_reply.started": "2025-04-01T14:13:55.203509Z"
    },
    "trusted": true
   },
   "outputs": [],
   "source": [
    "model.compile(loss=\"categorical_crossentropy\", optimizer=\"adam\", metrics=[\"accuracy\"])"
   ]
  },
  {
   "cell_type": "code",
   "execution_count": 55,
   "metadata": {
    "execution": {
     "iopub.execute_input": "2025-04-01T14:13:55.540084Z",
     "iopub.status.busy": "2025-04-01T14:13:55.539773Z",
     "iopub.status.idle": "2025-04-01T14:13:55.554130Z",
     "shell.execute_reply": "2025-04-01T14:13:55.553436Z",
     "shell.execute_reply.started": "2025-04-01T14:13:55.540059Z"
    },
    "trusted": true
   },
   "outputs": [
    {
     "data": {
      "text/html": [
       "<pre style=\"white-space:pre;overflow-x:auto;line-height:normal;font-family:Menlo,'DejaVu Sans Mono',consolas,'Courier New',monospace\"><span style=\"font-weight: bold\">Model: \"sequential_1\"</span>\n",
       "</pre>\n"
      ],
      "text/plain": [
       "\u001b[1mModel: \"sequential_1\"\u001b[0m\n"
      ]
     },
     "metadata": {},
     "output_type": "display_data"
    },
    {
     "data": {
      "text/html": [
       "<pre style=\"white-space:pre;overflow-x:auto;line-height:normal;font-family:Menlo,'DejaVu Sans Mono',consolas,'Courier New',monospace\">┏━━━━━━━━━━━━━━━━━━━━━━━━━━━━━━━━━━━━━━┳━━━━━━━━━━━━━━━━━━━━━━━━━━━━━┳━━━━━━━━━━━━━━━━━┓\n",
       "┃<span style=\"font-weight: bold\"> Layer (type)                         </span>┃<span style=\"font-weight: bold\"> Output Shape                </span>┃<span style=\"font-weight: bold\">         Param # </span>┃\n",
       "┡━━━━━━━━━━━━━━━━━━━━━━━━━━━━━━━━━━━━━━╇━━━━━━━━━━━━━━━━━━━━━━━━━━━━━╇━━━━━━━━━━━━━━━━━┩\n",
       "│ embedding_1 (<span style=\"color: #0087ff; text-decoration-color: #0087ff\">Embedding</span>)              │ (<span style=\"color: #00d7ff; text-decoration-color: #00d7ff\">None</span>, <span style=\"color: #00af00; text-decoration-color: #00af00\">178</span>, <span style=\"color: #00af00; text-decoration-color: #00af00\">100</span>)            │          <span style=\"color: #00af00; text-decoration-color: #00af00\">88,300</span> │\n",
       "├──────────────────────────────────────┼─────────────────────────────┼─────────────────┤\n",
       "│ lstm_1 (<span style=\"color: #0087ff; text-decoration-color: #0087ff\">LSTM</span>)                        │ (<span style=\"color: #00d7ff; text-decoration-color: #00d7ff\">None</span>, <span style=\"color: #00af00; text-decoration-color: #00af00\">512</span>)                 │       <span style=\"color: #00af00; text-decoration-color: #00af00\">1,255,424</span> │\n",
       "├──────────────────────────────────────┼─────────────────────────────┼─────────────────┤\n",
       "│ dense_1 (<span style=\"color: #0087ff; text-decoration-color: #0087ff\">Dense</span>)                      │ (<span style=\"color: #00d7ff; text-decoration-color: #00d7ff\">None</span>, <span style=\"color: #00af00; text-decoration-color: #00af00\">883</span>)                 │         <span style=\"color: #00af00; text-decoration-color: #00af00\">452,979</span> │\n",
       "└──────────────────────────────────────┴─────────────────────────────┴─────────────────┘\n",
       "</pre>\n"
      ],
      "text/plain": [
       "┏━━━━━━━━━━━━━━━━━━━━━━━━━━━━━━━━━━━━━━┳━━━━━━━━━━━━━━━━━━━━━━━━━━━━━┳━━━━━━━━━━━━━━━━━┓\n",
       "┃\u001b[1m \u001b[0m\u001b[1mLayer (type)                        \u001b[0m\u001b[1m \u001b[0m┃\u001b[1m \u001b[0m\u001b[1mOutput Shape               \u001b[0m\u001b[1m \u001b[0m┃\u001b[1m \u001b[0m\u001b[1m        Param #\u001b[0m\u001b[1m \u001b[0m┃\n",
       "┡━━━━━━━━━━━━━━━━━━━━━━━━━━━━━━━━━━━━━━╇━━━━━━━━━━━━━━━━━━━━━━━━━━━━━╇━━━━━━━━━━━━━━━━━┩\n",
       "│ embedding_1 (\u001b[38;5;33mEmbedding\u001b[0m)              │ (\u001b[38;5;45mNone\u001b[0m, \u001b[38;5;34m178\u001b[0m, \u001b[38;5;34m100\u001b[0m)            │          \u001b[38;5;34m88,300\u001b[0m │\n",
       "├──────────────────────────────────────┼─────────────────────────────┼─────────────────┤\n",
       "│ lstm_1 (\u001b[38;5;33mLSTM\u001b[0m)                        │ (\u001b[38;5;45mNone\u001b[0m, \u001b[38;5;34m512\u001b[0m)                 │       \u001b[38;5;34m1,255,424\u001b[0m │\n",
       "├──────────────────────────────────────┼─────────────────────────────┼─────────────────┤\n",
       "│ dense_1 (\u001b[38;5;33mDense\u001b[0m)                      │ (\u001b[38;5;45mNone\u001b[0m, \u001b[38;5;34m883\u001b[0m)                 │         \u001b[38;5;34m452,979\u001b[0m │\n",
       "└──────────────────────────────────────┴─────────────────────────────┴─────────────────┘\n"
      ]
     },
     "metadata": {},
     "output_type": "display_data"
    },
    {
     "data": {
      "text/html": [
       "<pre style=\"white-space:pre;overflow-x:auto;line-height:normal;font-family:Menlo,'DejaVu Sans Mono',consolas,'Courier New',monospace\"><span style=\"font-weight: bold\"> Total params: </span><span style=\"color: #00af00; text-decoration-color: #00af00\">1,796,703</span> (6.85 MB)\n",
       "</pre>\n"
      ],
      "text/plain": [
       "\u001b[1m Total params: \u001b[0m\u001b[38;5;34m1,796,703\u001b[0m (6.85 MB)\n"
      ]
     },
     "metadata": {},
     "output_type": "display_data"
    },
    {
     "data": {
      "text/html": [
       "<pre style=\"white-space:pre;overflow-x:auto;line-height:normal;font-family:Menlo,'DejaVu Sans Mono',consolas,'Courier New',monospace\"><span style=\"font-weight: bold\"> Trainable params: </span><span style=\"color: #00af00; text-decoration-color: #00af00\">1,796,703</span> (6.85 MB)\n",
       "</pre>\n"
      ],
      "text/plain": [
       "\u001b[1m Trainable params: \u001b[0m\u001b[38;5;34m1,796,703\u001b[0m (6.85 MB)\n"
      ]
     },
     "metadata": {},
     "output_type": "display_data"
    },
    {
     "data": {
      "text/html": [
       "<pre style=\"white-space:pre;overflow-x:auto;line-height:normal;font-family:Menlo,'DejaVu Sans Mono',consolas,'Courier New',monospace\"><span style=\"font-weight: bold\"> Non-trainable params: </span><span style=\"color: #00af00; text-decoration-color: #00af00\">0</span> (0.00 B)\n",
       "</pre>\n"
      ],
      "text/plain": [
       "\u001b[1m Non-trainable params: \u001b[0m\u001b[38;5;34m0\u001b[0m (0.00 B)\n"
      ]
     },
     "metadata": {},
     "output_type": "display_data"
    }
   ],
   "source": [
    "model.summary()"
   ]
  },
  {
   "cell_type": "code",
   "execution_count": 56,
   "metadata": {
    "execution": {
     "iopub.execute_input": "2025-04-01T14:14:00.829512Z",
     "iopub.status.busy": "2025-04-01T14:14:00.829224Z",
     "iopub.status.idle": "2025-04-01T14:14:00.833549Z",
     "shell.execute_reply": "2025-04-01T14:14:00.832463Z",
     "shell.execute_reply.started": "2025-04-01T14:14:00.829489Z"
    },
    "trusted": true
   },
   "outputs": [],
   "source": [
    "import dagshub\n",
    "import mlflow\n",
    "import mlflow.keras"
   ]
  },
  {
   "cell_type": "code",
   "execution_count": 57,
   "metadata": {
    "execution": {
     "iopub.execute_input": "2025-04-01T14:14:00.978547Z",
     "iopub.status.busy": "2025-04-01T14:14:00.978266Z",
     "iopub.status.idle": "2025-04-01T14:14:04.017743Z",
     "shell.execute_reply": "2025-04-01T14:14:04.016838Z",
     "shell.execute_reply.started": "2025-04-01T14:14:00.978515Z"
    },
    "trusted": true
   },
   "outputs": [
    {
     "data": {
      "text/html": [
       "<pre style=\"white-space:pre;overflow-x:auto;line-height:normal;font-family:Menlo,'DejaVu Sans Mono',consolas,'Courier New',monospace\">Initialized MLflow to track repo <span style=\"color: #008000; text-decoration-color: #008000\">\"gauravbosamiya/end-to-end-mlops-pipeline-next-word-predictor\"</span>\n",
       "</pre>\n"
      ],
      "text/plain": [
       "Initialized MLflow to track repo \u001b[32m\"gauravbosamiya/end-to-end-mlops-pipeline-next-word-predictor\"\u001b[0m\n"
      ]
     },
     "metadata": {},
     "output_type": "display_data"
    },
    {
     "data": {
      "text/html": [
       "<pre style=\"white-space:pre;overflow-x:auto;line-height:normal;font-family:Menlo,'DejaVu Sans Mono',consolas,'Courier New',monospace\">Repository gauravbosamiya/end-to-end-mlops-pipeline-next-word-predictor initialized!\n",
       "</pre>\n"
      ],
      "text/plain": [
       "Repository gauravbosamiya/end-to-end-mlops-pipeline-next-word-predictor initialized!\n"
      ]
     },
     "metadata": {},
     "output_type": "display_data"
    },
    {
     "data": {
      "text/plain": [
       "<Experiment: artifact_location='mlflow-artifacts:/05a7f3a14fb242ba811cb728216d95e2', creation_time=1743490877624, experiment_id='0', last_update_time=1743490877624, lifecycle_stage='active', name='Single Layer LSTM (512) Baseline Model', tags={}>"
      ]
     },
     "execution_count": 57,
     "metadata": {},
     "output_type": "execute_result"
    }
   ],
   "source": [
    "mlflow.set_tracking_uri(\"https://dagshub.com/gauravbosamiya/end-to-end-mlops-pipeline-next-word-predictor.mlflow\")\n",
    "dagshub.init(repo_owner=\"gauravbosamiya\",repo_name=\"end-to-end-mlops-pipeline-next-word-predictor\", mlflow=True)\n",
    "\n",
    "mlflow.set_experiment(\"Single Layer LSTM (512) Baseline Model\")"
   ]
  },
  {
   "cell_type": "code",
   "execution_count": 58,
   "metadata": {
    "execution": {
     "iopub.execute_input": "2025-04-01T14:14:04.019083Z",
     "iopub.status.busy": "2025-04-01T14:14:04.018824Z",
     "iopub.status.idle": "2025-04-01T14:15:23.276144Z",
     "shell.execute_reply": "2025-04-01T14:15:23.275406Z",
     "shell.execute_reply.started": "2025-04-01T14:14:04.019062Z"
    },
    "trusted": true
   },
   "outputs": [
    {
     "name": "stdout",
     "output_type": "stream",
     "text": [
      "Epoch 1/5\n",
      "\u001b[1m470/470\u001b[0m \u001b[32m━━━━━━━━━━━━━━━━━━━━\u001b[0m\u001b[37m\u001b[0m \u001b[1m13s\u001b[0m 24ms/step - accuracy: 0.0547 - loss: 6.0885\n",
      "Epoch 2/5\n",
      "\u001b[1m470/470\u001b[0m \u001b[32m━━━━━━━━━━━━━━━━━━━━\u001b[0m\u001b[37m\u001b[0m \u001b[1m11s\u001b[0m 24ms/step - accuracy: 0.1830 - loss: 4.3213\n",
      "Epoch 3/5\n",
      "\u001b[1m470/470\u001b[0m \u001b[32m━━━━━━━━━━━━━━━━━━━━\u001b[0m\u001b[37m\u001b[0m \u001b[1m11s\u001b[0m 24ms/step - accuracy: 0.7547 - loss: 1.2335\n",
      "Epoch 4/5\n",
      "\u001b[1m470/470\u001b[0m \u001b[32m━━━━━━━━━━━━━━━━━━━━\u001b[0m\u001b[37m\u001b[0m \u001b[1m11s\u001b[0m 24ms/step - accuracy: 0.9785 - loss: 0.2009\n",
      "Epoch 5/5\n",
      "\u001b[1m470/470\u001b[0m \u001b[32m━━━━━━━━━━━━━━━━━━━━\u001b[0m\u001b[37m\u001b[0m \u001b[1m11s\u001b[0m 24ms/step - accuracy: 0.9892 - loss: 0.0762\n"
     ]
    },
    {
     "name": "stderr",
     "output_type": "stream",
     "text": [
      "2025/04/01 14:15:05 WARNING mlflow.keras.save: You are saving a Keras model without specifying model signature.\n",
      "\u001b[31m2025/04/01 14:15:18 WARNING mlflow.models.model: Model logged without a signature and input example. Please set `input_example` parameter when logging the model to auto infer the model signature.\u001b[0m\n"
     ]
    },
    {
     "name": "stdout",
     "output_type": "stream",
     "text": [
      "🏃 View run calm-carp-823 at: https://dagshub.com/gauravbosamiya/end-to-end-mlops-pipeline-next-word-predictor.mlflow/#/experiments/0/runs/140142bb5ae14d3c93cfdf2e55bc4948\n",
      "🧪 View experiment at: https://dagshub.com/gauravbosamiya/end-to-end-mlops-pipeline-next-word-predictor.mlflow/#/experiments/0\n"
     ]
    }
   ],
   "source": [
    "import logging\n",
    "import os \n",
    "logging.basicConfig(level=logging.INFO, format=\"%(asctime)s - %(levelname)s - %(message)s\")\n",
    "logging.info(\"Satrting Mlflow run...\")\n",
    "\n",
    "with mlflow.start_run():\n",
    "    try:\n",
    "        \n",
    "        # log params\n",
    "        logging.info(\"Logging preprocessing parameters...\")\n",
    "        mlflow.log_param(\"epochs\", 5),\n",
    "        # mlflow.log_param(\"batch_size\", 32)\n",
    "        mlflow.log_param(\"optimizer\", \"Adam\")\n",
    "        mlflow.log_param(\"loss_function\", \"categorical_crossentropy\")\n",
    "        \n",
    "        \n",
    "        logging.info(\"Logging model parameters...\")\n",
    "        mlflow.log_param(\"embedding_dim\", 100)\n",
    "        mlflow.log_param(\"lstm_units\", 512)\n",
    "        mlflow.log_param(\"dropout_rate\", 0.3)\n",
    "        mlflow.log_param(\"input_length\", 178)\n",
    "        mlflow.log_param(\"num_classes\", 883)\n",
    "\n",
    "        \n",
    "        history = model.fit(X, y, epochs=5)\n",
    "        \n",
    "        \n",
    "        for epoch, (train_loss, train_acc) in enumerate(zip(history.history['loss'], history.history['accuracy'])):\n",
    "            mlflow.log_metric(f\"train_loss_epoch_{epoch}\", train_loss)\n",
    "            mlflow.log_metric(f\"train_accuracy_epoch_{epoch}\", train_acc)\n",
    "            \n",
    "            \n",
    "        logging.info(\"Saving and logging the model...\")\n",
    "        mlflow.keras.log_model(model,\"model\")\n",
    "        \n",
    "        \n",
    "        logging.info(\"Model training and logging completed.\")\n",
    "        \n",
    "    except Exception as e:\n",
    "        logging.error(f\"An error occurred: {e}\", exc_info=True)\n",
    "         "
   ]
  },
  {
   "cell_type": "code",
   "execution_count": null,
   "metadata": {
    "trusted": true
   },
   "outputs": [],
   "source": []
  },
  {
   "cell_type": "code",
   "execution_count": null,
   "metadata": {
    "trusted": true
   },
   "outputs": [],
   "source": []
  },
  {
   "cell_type": "code",
   "execution_count": null,
   "metadata": {
    "trusted": true
   },
   "outputs": [],
   "source": []
  }
 ],
 "metadata": {
  "kaggle": {
   "accelerator": "gpu",
   "dataSources": [],
   "dockerImageVersionId": 30919,
   "isGpuEnabled": true,
   "isInternetEnabled": true,
   "language": "python",
   "sourceType": "notebook"
  },
  "kernelspec": {
   "display_name": "word",
   "language": "python",
   "name": "python3"
  },
  "language_info": {
   "codemirror_mode": {
    "name": "ipython",
    "version": 3
   },
   "file_extension": ".py",
   "mimetype": "text/x-python",
   "name": "python",
   "nbconvert_exporter": "python",
   "pygments_lexer": "ipython3",
   "version": "3.10.16"
  }
 },
 "nbformat": 4,
 "nbformat_minor": 4
}
